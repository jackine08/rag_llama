{
 "cells": [
  {
   "cell_type": "code",
   "execution_count": 5,
   "id": "70b220f1-00e8-4706-8287-b18c1501b9c7",
   "metadata": {},
   "outputs": [],
   "source": [
    "from langchain.vectorstores import Chroma\n",
    "from langchain_community.embeddings.sentence_transformer import SentenceTransformerEmbeddings\n",
    "import torch\n",
    "\n",
    "device = \"cuda:1\" if torch.cuda.is_available() else \"cpu\"\n",
    "embedding_function = SentenceTransformerEmbeddings(model_name=\"all-MiniLM-L6-v2\")\n",
    "db = Chroma(persist_directory=\"./.chroma_db\", embedding_function=embedding_function)"
   ]
  },
  {
   "cell_type": "code",
   "execution_count": null,
   "id": "f1efe8bf-4170-4e61-a8da-b4f6742dd0f0",
   "metadata": {},
   "outputs": [],
   "source": [
    "db.search()"
   ]
  },
  {
   "cell_type": "code",
   "execution_count": 26,
   "id": "ac9cbdb8-2bd8-4a92-866f-5dcc51f2ace1",
   "metadata": {},
   "outputs": [],
   "source": [
    "docs = db.similarity_search(\"Clinical Research\")"
   ]
  },
  {
   "cell_type": "code",
   "execution_count": 31,
   "id": "48f5a260-9863-45b4-aad4-1965e845cfd0",
   "metadata": {},
   "outputs": [
    {
     "data": {
      "text/plain": [
       "'introduction-to-quantum-mechanics-david-j-darrell--annas-archive--libgenrs-nf-2695391.pdf'"
      ]
     },
     "execution_count": 31,
     "metadata": {},
     "output_type": "execute_result"
    }
   ],
   "source": [
    "docs[0].metadata[\"source\"]"
   ]
  },
  {
   "cell_type": "code",
   "execution_count": null,
   "id": "79042d8b-b723-4bb1-a99b-718ec00c6349",
   "metadata": {},
   "outputs": [],
   "source": []
  }
 ],
 "metadata": {
  "kernelspec": {
   "display_name": "Python 3 (ipykernel)",
   "language": "python",
   "name": "python3"
  },
  "language_info": {
   "codemirror_mode": {
    "name": "ipython",
    "version": 3
   },
   "file_extension": ".py",
   "mimetype": "text/x-python",
   "name": "python",
   "nbconvert_exporter": "python",
   "pygments_lexer": "ipython3",
   "version": "3.12.2"
  }
 },
 "nbformat": 4,
 "nbformat_minor": 5
}
